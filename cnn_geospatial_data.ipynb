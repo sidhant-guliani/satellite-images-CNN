{
  "nbformat": 4,
  "nbformat_minor": 0,
  "metadata": {
    "colab": {
      "name": "cnn_geospatial_data.ipynb",
      "provenance": [],
      "collapsed_sections": [],
      "authorship_tag": "ABX9TyM5w+IfIjUpgj3kfJN8q/fa",
      "include_colab_link": true
    },
    "kernelspec": {
      "name": "python3",
      "display_name": "Python 3"
    }
  },
  "cells": [
    {
      "cell_type": "markdown",
      "metadata": {
        "id": "view-in-github",
        "colab_type": "text"
      },
      "source": [
        "<a href=\"https://colab.research.google.com/github/sidhant-guliani/satellite-images-CNN/blob/master/cnn_geospatial_data.ipynb\" target=\"_parent\"><img src=\"https://colab.research.google.com/assets/colab-badge.svg\" alt=\"Open In Colab\"/></a>"
      ]
    },
    {
      "cell_type": "code",
      "metadata": {
        "id": "rOH_-K1Z0mbP",
        "colab_type": "code",
        "colab": {}
      },
      "source": [
        "import os\n",
        "import gc\n",
        "import zipfile\n",
        "import pandas as pd\n",
        "import numpy as np\n",
        "\n",
        "import tensorflow as tf\n",
        "from tensorflow.keras import Sequential, Model, Input\n",
        "from tensorflow.keras.layers import Dense, ReLU, Activation, Flatten, Dropout, Conv2D, MaxPooling2D, GlobalAveragePooling2D, BatchNormalization, ZeroPadding2D\n",
        "from tensorflow.keras.applications.vgg19 import VGG19\n",
        "from tensorflow.keras.callbacks import EarlyStopping, ReduceLROnPlateau, ModelCheckpoint\n",
        "from tensorflow.keras.optimizers import Adam\n",
        "\n",
        "import cv2\n",
        "from tqdm import tqdm\n",
        "from sklearn.metrics import fbeta_score\n",
        "from sklearn.model_selection import KFold"
      ],
      "execution_count": 44,
      "outputs": []
    },
    {
      "cell_type": "code",
      "metadata": {
        "id": "XNx9yShZ17RG",
        "colab_type": "code",
        "colab": {
          "base_uri": "https://localhost:8080/",
          "height": 34
        },
        "outputId": "06178abc-9adc-4bd6-f29c-3fc94a7f0ffa"
      },
      "source": [
        "from google.colab import drive\n",
        "drive.mount('/content/drive')\n",
        "\n",
        "local_zip = '/content/drive/My Drive/Colab_Notebooks/503255_938046_compressed_planet.zip'\n",
        "zip_ref = zipfile.ZipFile(local_zip, 'r')\n",
        "zip_ref.extractall('/amazon_data')\n",
        "zip_ref.close()"
      ],
      "execution_count": 45,
      "outputs": [
        {
          "output_type": "stream",
          "text": [
            "Drive already mounted at /content/drive; to attempt to forcibly remount, call drive.mount(\"/content/drive\", force_remount=True).\n"
          ],
          "name": "stdout"
        }
      ]
    },
    {
      "cell_type": "code",
      "metadata": {
        "id": "4T6NPzW4VQin",
        "colab_type": "code",
        "colab": {
          "base_uri": "https://localhost:8080/",
          "height": 34
        },
        "outputId": "bd92407b-7937-4fd1-8915-9f8f58233314"
      },
      "source": [
        "!ls ../amazon_data/planet"
      ],
      "execution_count": 29,
      "outputs": [
        {
          "output_type": "stream",
          "text": [
            "sample_submission.csv  test-jpg  train_classes.csv  train-jpg\n"
          ],
          "name": "stdout"
        }
      ]
    },
    {
      "cell_type": "code",
      "metadata": {
        "id": "y43ZVsf8189i",
        "colab_type": "code",
        "colab": {}
      },
      "source": [
        "base_dir = '../amazon_data/planet'\n",
        "train_v2_file= os.path.join(base_dir, 'train_classes.csv')\n",
        "submission_path = os.path.join(base_dir, 'sample_submission.csv')\n",
        "\n",
        "df_train_data = pd.read_csv(train_v2_file)\n",
        "df_test = pd.read_csv(submission_path)\n",
        "#df_test = df_test[~df_test.image_name.str.startswith('test')]\n"
      ],
      "execution_count": 56,
      "outputs": []
    },
    {
      "cell_type": "code",
      "metadata": {
        "id": "vVEK2IlM2F8w",
        "colab_type": "code",
        "colab": {}
      },
      "source": [
        "flatten = lambda l: [item for sublist in l for item in sublist]\n",
        "labels = list(set(flatten([l.split(' ') for l in df_train_data['tags'].values])))\n",
        "\n",
        "label_map = {l: i for i, l in enumerate(labels)}\n",
        "inv_label_map = {i: l for l, i in label_map.items()}"
      ],
      "execution_count": 47,
      "outputs": []
    },
    {
      "cell_type": "code",
      "metadata": {
        "id": "fO5R0Vo82GaA",
        "colab_type": "code",
        "colab": {}
      },
      "source": [
        "valid_data_size = 5000\n",
        "input_size = 32\n",
        "input_channels = 3\n",
        "\n",
        "epochs = 15\n",
        "batch_size = 128\n",
        "learning_rate = 0.001\n",
        "lr_decay = 1e-4\n",
        "\n",
        "valid_data_size = 5000"
      ],
      "execution_count": 27,
      "outputs": []
    },
    {
      "cell_type": "code",
      "metadata": {
        "id": "u38cUN_92M2R",
        "colab_type": "code",
        "colab": {
          "base_uri": "https://localhost:8080/",
          "height": 34
        },
        "outputId": "96890a6a-442d-41ef-8a91-d3a030fecc56"
      },
      "source": [
        "x_valid = []\n",
        "y_valid = []\n",
        "\n",
        "df_valid = df_train_data[(len(df_train_data) - valid_data_size):]\n",
        "for f, tags in tqdm(df_valid.values, miniters=100):\n",
        "    dir_open= os.path.join(base_dir, 'train-jpg/{}.jpg'.format(f))\n",
        "    img = cv2.imread(dir_open)\n",
        "    img = cv2.resize(img, (input_size, input_size))\n",
        "\n",
        "    targets = np.zeros(17)\n",
        "    \n",
        "    for t in tags.split(' '):\n",
        "        targets[label_map[t]] = 1\n",
        "    x_valid.append(img)\n",
        "    y_valid.append(targets)\n",
        "\n",
        "y_valid = np.array(y_valid, np.uint8)\n",
        "x_valid = np.array(x_valid, np.float32)"
      ],
      "execution_count": 15,
      "outputs": [
        {
          "output_type": "stream",
          "text": [
            "100%|██████████| 5000/5000 [00:07<00:00, 682.74it/s]\n"
          ],
          "name": "stderr"
        }
      ]
    },
    {
      "cell_type": "code",
      "metadata": {
        "id": "TOBKOLJACR7M",
        "colab_type": "code",
        "colab": {
          "base_uri": "https://localhost:8080/",
          "height": 51
        },
        "outputId": "d2c50b1d-3a3d-4a3d-c3f8-3cba7931d0ce"
      },
      "source": [
        "print(x_valid.shape)\n",
        "print(y_valid.shape)"
      ],
      "execution_count": 16,
      "outputs": [
        {
          "output_type": "stream",
          "text": [
            "(5000, 32, 32, 3)\n",
            "(5000, 17)\n"
          ],
          "name": "stdout"
        }
      ]
    },
    {
      "cell_type": "code",
      "metadata": {
        "id": "XK_bWUcZ2iE4",
        "colab_type": "code",
        "colab": {
          "base_uri": "https://localhost:8080/",
          "height": 86
        },
        "outputId": "a31f0096-3b09-4fbb-d1cf-80cdaa1826f7"
      },
      "source": [
        "x_train = []\n",
        "y_train = []\n",
        "\n",
        "df_train = df_train_data[:(len(df_train_data) - valid_data_size)]\n",
        "\n",
        "for f, tags in tqdm(df_train.values, miniters=1000):\n",
        "    dir_open= os.path.join(base_dir, 'train-jpg/{}.jpg'.format(f))\n",
        "    img = cv2.imread(dir_open)\n",
        "    img = cv2.resize(img, (input_size, input_size))\n",
        "    targets = np.zeros(17)\n",
        "\n",
        "    for t in tags.split(' '):\n",
        "        targets[label_map[t]] = 1\n",
        "\n",
        "    x_train.append(img)\n",
        "    y_train.append(targets)\n",
        "    img = cv2.flip(img, 0)  # flip vertically\n",
        "    x_train.append(img)\n",
        "    y_train.append(targets)\n",
        "    img = cv2.flip(img, 1)  # flip horizontally\n",
        "    x_train.append(img)\n",
        "    y_train.append(targets)\n",
        "    img = cv2.flip(img, 0)  # flip vertically\n",
        "    x_train.append(img)\n",
        "    y_train.append(targets)\n",
        "\n",
        "y_train = np.array(y_train, np.uint8)\n",
        "x_train = np.array(x_train, np.float32)"
      ],
      "execution_count": 17,
      "outputs": [
        {
          "output_type": "stream",
          "text": [
            "100%|██████████| 35479/35479 [00:56<00:00, 625.14it/s]\n"
          ],
          "name": "stderr"
        },
        {
          "output_type": "execute_result",
          "data": {
            "application/vnd.google.colaboratory.intrinsic+json": {
              "type": "string"
            },
            "text/plain": [
              "\"y_test = []\\n\\np_test = model.predict(x_test, batch_size=batch_size, verbose=2)\\ny_test.append(p_test)\\n\\nresult = np.array(y_test[0])\\nresult = pd.DataFrame(result, columns=labels)\\n\\npreds = []\\n\\nfor i in tqdm(range(result.shape[0]), miniters=1000):\\n    a = result.ix[[i]]\\n    a = a.apply(lambda x: x > 0.2, axis=1)\\n    a = a.transpose()\\n    a = a.loc[a[i] == True]\\n    ' '.join(list(a.index))\\n    preds.append(' '.join(list(a.index)))\\n\\ndf_test_data['tags'] = preds\""
            ]
          },
          "metadata": {
            "tags": []
          },
          "execution_count": 17
        }
      ]
    },
    {
      "cell_type": "code",
      "metadata": {
        "id": "nhNTOQaHXhYV",
        "colab_type": "code",
        "colab": {}
      },
      "source": [
        ""
      ],
      "execution_count": 28,
      "outputs": []
    },
    {
      "cell_type": "code",
      "metadata": {
        "id": "h2Rq6I2Pu3lS",
        "colab_type": "code",
        "colab": {}
      },
      "source": [
        "#y_train = np.asarray(y_train).astype('float32').reshape((-1,1))\n",
        "#y_valid = np.asarray(y_valid).astype('float32').reshape((-1,1))"
      ],
      "execution_count": 18,
      "outputs": []
    },
    {
      "cell_type": "code",
      "metadata": {
        "id": "25zMNo2xFths",
        "colab_type": "code",
        "colab": {
          "base_uri": "https://localhost:8080/",
          "height": 170
        },
        "outputId": "1074ad7f-7df7-4c6d-827e-9335c73fd0fe"
      },
      "source": [
        "# in this cell Im not using the kfold validation and fit_generator (using fit)\n",
        "model = Sequential()\n",
        "model.add(Conv2D(32, kernel_size=(3, 3),\n",
        "                 activation='relu',\n",
        "                 input_shape=(32, 32, 3)))\n",
        "\n",
        "model.add(Conv2D(32, (3, 3), activation='relu'))\n",
        "model.add(MaxPooling2D(pool_size=(2, 2)))\n",
        "model.add(Dropout(0.25))\n",
        "model.add(Flatten())\n",
        "model.add(Dense(128, activation='relu'))\n",
        "model.add(Dropout(0.5))\n",
        "model.add(Dense(17, activation='sigmoid'))\n",
        "\n",
        "model.compile(loss='binary_crossentropy', # We NEED binary here, since categorical_crossentropy l1 norms the output before calculating loss.\n",
        "              optimizer='adam',\n",
        "              metrics=['accuracy'])\n",
        "              \n",
        "model.fit(x_train, y_train,\n",
        "          batch_size=128,\n",
        "          epochs=4,\n",
        "          verbose=1,\n",
        "          validation_data=(x_valid, y_valid))\n",
        "          "
      ],
      "execution_count": 19,
      "outputs": [
        {
          "output_type": "stream",
          "text": [
            "Epoch 1/4\n",
            "1109/1109 [==============================] - 304s 274ms/step - loss: 0.2914 - accuracy: 0.0207 - val_loss: 0.1893 - val_accuracy: 0.0100\n",
            "Epoch 2/4\n",
            "1109/1109 [==============================] - 305s 275ms/step - loss: 0.1949 - accuracy: 0.0344 - val_loss: 0.1659 - val_accuracy: 0.0198\n",
            "Epoch 3/4\n",
            "1109/1109 [==============================] - 305s 275ms/step - loss: 0.1791 - accuracy: 0.0458 - val_loss: 0.1597 - val_accuracy: 0.0530\n",
            "Epoch 4/4\n",
            "1109/1109 [==============================] - 305s 275ms/step - loss: 0.1702 - accuracy: 0.0505 - val_loss: 0.1526 - val_accuracy: 0.0598\n"
          ],
          "name": "stdout"
        },
        {
          "output_type": "execute_result",
          "data": {
            "text/plain": [
              "<tensorflow.python.keras.callbacks.History at 0x7fcad4157a58>"
            ]
          },
          "metadata": {
            "tags": []
          },
          "execution_count": 19
        }
      ]
    },
    {
      "cell_type": "code",
      "metadata": {
        "id": "nwBNQ3115kpm",
        "colab_type": "code",
        "colab": {}
      },
      "source": [
        "x#https://www.kaggle.com/petrosgk/1st-try-with-keras-0-918-lb"
      ],
      "execution_count": null,
      "outputs": []
    },
    {
      "cell_type": "code",
      "metadata": {
        "id": "OXivlWdaKHs2",
        "colab_type": "code",
        "colab": {}
      },
      "source": [
        "x_test = []\n",
        "\n",
        "for f, tags in tqdm(df_test.values, miniters=1000):\n",
        "    dir_open= os.path.join(base_dir, 'test-jpg/{}.jpg'.format(f))\n",
        "    img = cv2.imread(dir_open)\n",
        "    if type(img) is np.ndarray:\n",
        "      if img.size == 0:\n",
        "        continue\n",
        "    if img is None:\n",
        "        continue\n",
        "    img = cv2.resize(img, (input_size, input_size))\n",
        "    x_test.append(img)\n",
        "\n",
        "x_test = np.array(x_test, np.float32)"
      ],
      "execution_count": null,
      "outputs": []
    },
    {
      "cell_type": "code",
      "metadata": {
        "id": "XbOMWbl7cKzY",
        "colab_type": "code",
        "colab": {
          "base_uri": "https://localhost:8080/",
          "height": 34
        },
        "outputId": "e9bc60ff-0803-41b9-f7e9-0d24921fe48a"
      },
      "source": [
        "y_test = []\n",
        "p_test = model.predict(x_test, batch_size=batch_size, verbose=2)\n",
        "y_test.append(p_test)\n",
        "result = np.array(y_test[0])\n",
        "result = pd.DataFrame(result, columns=labels)\n",
        "preds = []\n"
      ],
      "execution_count": 67,
      "outputs": [
        {
          "output_type": "stream",
          "text": [
            "318/318 - 20s\n"
          ],
          "name": "stdout"
        }
      ]
    },
    {
      "cell_type": "code",
      "metadata": {
        "id": "TCKRo8OWh4a6",
        "colab_type": "code",
        "colab": {
          "base_uri": "https://localhost:8080/",
          "height": 316
        },
        "outputId": "086da788-18d7-43f9-c823-4aba08d635fa"
      },
      "source": [
        "for i in tqdm(range(result.shape[0]), miniters=1000):\n",
        "    a = result.iloc[[i]]\n",
        "    a = a.apply(lambda x: x > 0.2, axis=1)\n",
        "    a = a.transpose()\n",
        "    a = a.loc[a[i] == True]\n",
        "    preds.append(' '.join(list(a.index)))\n",
        "\n",
        "df_test_data['tags'] = preds"
      ],
      "execution_count": 65,
      "outputs": [
        {
          "output_type": "stream",
          "text": [
            "\n",
            "\n",
            "\n",
            "\n",
            "  0%|          | 0/40669 [00:00<?, ?it/s]\n"
          ],
          "name": "stderr"
        },
        {
          "output_type": "error",
          "ename": "NameError",
          "evalue": "ignored",
          "traceback": [
            "\u001b[0;31m---------------------------------------------------------------------------\u001b[0m",
            "\u001b[0;31mNameError\u001b[0m                                 Traceback (most recent call last)",
            "\u001b[0;32m<ipython-input-65-f7ca5d4eee22>\u001b[0m in \u001b[0;36m<module>\u001b[0;34m()\u001b[0m\n\u001b[1;32m      5\u001b[0m     \u001b[0ma\u001b[0m \u001b[0;34m=\u001b[0m \u001b[0ma\u001b[0m\u001b[0;34m.\u001b[0m\u001b[0mloc\u001b[0m\u001b[0;34m[\u001b[0m\u001b[0ma\u001b[0m\u001b[0;34m[\u001b[0m\u001b[0mi\u001b[0m\u001b[0;34m]\u001b[0m \u001b[0;34m==\u001b[0m \u001b[0;32mTrue\u001b[0m\u001b[0;34m]\u001b[0m\u001b[0;34m\u001b[0m\u001b[0;34m\u001b[0m\u001b[0m\n\u001b[1;32m      6\u001b[0m     \u001b[0;34m' '\u001b[0m\u001b[0;34m.\u001b[0m\u001b[0mjoin\u001b[0m\u001b[0;34m(\u001b[0m\u001b[0mlist\u001b[0m\u001b[0;34m(\u001b[0m\u001b[0ma\u001b[0m\u001b[0;34m.\u001b[0m\u001b[0mindex\u001b[0m\u001b[0;34m)\u001b[0m\u001b[0;34m)\u001b[0m\u001b[0;34m\u001b[0m\u001b[0;34m\u001b[0m\u001b[0m\n\u001b[0;32m----> 7\u001b[0;31m     \u001b[0mpredsappend\u001b[0m\u001b[0;34m(\u001b[0m\u001b[0;34m' '\u001b[0m\u001b[0;34m.\u001b[0m\u001b[0mjoin\u001b[0m\u001b[0;34m(\u001b[0m\u001b[0mlist\u001b[0m\u001b[0;34m(\u001b[0m\u001b[0ma\u001b[0m\u001b[0;34m.\u001b[0m\u001b[0mindex\u001b[0m\u001b[0;34m)\u001b[0m\u001b[0;34m)\u001b[0m\u001b[0;34m)\u001b[0m\u001b[0;34m\u001b[0m\u001b[0;34m\u001b[0m\u001b[0m\n\u001b[0m\u001b[1;32m      8\u001b[0m \u001b[0;34m\u001b[0m\u001b[0m\n\u001b[1;32m      9\u001b[0m \u001b[0mdf_test_data\u001b[0m\u001b[0;34m[\u001b[0m\u001b[0;34m'tags'\u001b[0m\u001b[0;34m]\u001b[0m \u001b[0;34m=\u001b[0m \u001b[0mpreds\u001b[0m\u001b[0;34m\u001b[0m\u001b[0;34m\u001b[0m\u001b[0m\n",
            "\u001b[0;31mNameError\u001b[0m: name 'predsappend' is not defined"
          ]
        }
      ]
    },
    {
      "cell_type": "code",
      "metadata": {
        "id": "0Jl2ek4L-kEO",
        "colab_type": "code",
        "colab": {}
      },
      "source": [
        ""
      ],
      "execution_count": null,
      "outputs": []
    }
  ]
}