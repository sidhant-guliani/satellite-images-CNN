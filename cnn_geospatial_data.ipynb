{
  "nbformat": 4,
  "nbformat_minor": 0,
  "metadata": {
    "colab": {
      "name": "cnn_geospatial_data.ipynb",
      "provenance": [],
      "collapsed_sections": [],
      "authorship_tag": "ABX9TyOiWPPkKTI6dCmFaUbQOQGh",
      "include_colab_link": true
    },
    "kernelspec": {
      "name": "python3",
      "display_name": "Python 3"
    }
  },
  "cells": [
    {
      "cell_type": "markdown",
      "metadata": {
        "id": "view-in-github",
        "colab_type": "text"
      },
      "source": [
        "<a href=\"https://colab.research.google.com/github/sidhant-guliani/satellite-images-CNN/blob/master/cnn_geospatial_data.ipynb\" target=\"_parent\"><img src=\"https://colab.research.google.com/assets/colab-badge.svg\" alt=\"Open In Colab\"/></a>"
      ]
    },
    {
      "cell_type": "code",
      "metadata": {
        "id": "rOH_-K1Z0mbP",
        "colab_type": "code",
        "colab": {}
      },
      "source": [
        "import os\n",
        "import gc\n",
        "import zipfile\n",
        "import pandas as pd\n",
        "import numpy as np\n",
        "\n",
        "import tensorflow as tf\n",
        "from tensorflow.keras import Sequential, Model, Input\n",
        "from tensorflow.keras.layers import Dense, ReLU, Activation, Flatten, Dropout, Conv2D, MaxPooling2D, GlobalAveragePooling2D, BatchNormalization, ZeroPadding2D\n",
        "from tensorflow.keras.applications.vgg19 import VGG19\n",
        "from tensorflow.keras.callbacks import EarlyStopping, ReduceLROnPlateau, ModelCheckpoint\n",
        "from tensorflow.keras.optimizers import Adam\n",
        "\n",
        "import cv2\n",
        "from tqdm import tqdm\n",
        "from sklearn.metrics import fbeta_score\n",
        "from sklearn.model_selection import KFold\n",
        "\n",
        "import matplotlib.pyplot as plt\n"
      ],
      "execution_count": 15,
      "outputs": []
    },
    {
      "cell_type": "code",
      "metadata": {
        "id": "XNx9yShZ17RG",
        "colab_type": "code",
        "colab": {
          "base_uri": "https://localhost:8080/",
          "height": 122
        },
        "outputId": "8fc58648-bf2a-46a2-b82f-2642cb744ee4"
      },
      "source": [
        "from google.colab import drive\n",
        "drive.mount('/content/drive')\n",
        "\n",
        "local_zip = '/content/drive/My Drive/Colab_Notebooks/503255_938046_compressed_planet.zip'\n",
        "zip_ref = zipfile.ZipFile(local_zip, 'r')\n",
        "zip_ref.extractall('/amazon_data')\n",
        "zip_ref.close()"
      ],
      "execution_count": 3,
      "outputs": [
        {
          "output_type": "stream",
          "text": [
            "Go to this URL in a browser: https://accounts.google.com/o/oauth2/auth?client_id=947318989803-6bn6qk8qdgf4n4g3pfee6491hc0brc4i.apps.googleusercontent.com&redirect_uri=urn%3aietf%3awg%3aoauth%3a2.0%3aoob&scope=email%20https%3a%2f%2fwww.googleapis.com%2fauth%2fdocs.test%20https%3a%2f%2fwww.googleapis.com%2fauth%2fdrive%20https%3a%2f%2fwww.googleapis.com%2fauth%2fdrive.photos.readonly%20https%3a%2f%2fwww.googleapis.com%2fauth%2fpeopleapi.readonly&response_type=code\n",
            "\n",
            "Enter your authorization code:\n",
            "··········\n",
            "Mounted at /content/drive\n"
          ],
          "name": "stdout"
        }
      ]
    },
    {
      "cell_type": "code",
      "metadata": {
        "id": "4T6NPzW4VQin",
        "colab_type": "code",
        "colab": {
          "base_uri": "https://localhost:8080/",
          "height": 34
        },
        "outputId": "4fd96208-8d6c-4e06-df01-1453d05e9836"
      },
      "source": [
        "!ls ../amazon_data/planet"
      ],
      "execution_count": 71,
      "outputs": [
        {
          "output_type": "stream",
          "text": [
            "sample_submission.csv  test-jpg  train_classes.csv  train-jpg\n"
          ],
          "name": "stdout"
        }
      ]
    },
    {
      "cell_type": "code",
      "metadata": {
        "id": "y43ZVsf8189i",
        "colab_type": "code",
        "colab": {}
      },
      "source": [
        "base_dir = '../amazon_data/planet'\n",
        "train_v2_file= os.path.join(base_dir, 'train_classes.csv')\n",
        "submission_path = os.path.join(base_dir, 'sample_submission.csv')\n",
        "\n",
        "df_train_data = pd.read_csv(train_v2_file)\n",
        "df_test = pd.read_csv(submission_path)\n",
        "#df_test = df_test[~df_test.image_name.str.startswith('test')]\n"
      ],
      "execution_count": 4,
      "outputs": []
    },
    {
      "cell_type": "code",
      "metadata": {
        "id": "vVEK2IlM2F8w",
        "colab_type": "code",
        "colab": {}
      },
      "source": [
        "flatten = lambda l: [item for sublist in l for item in sublist]\n",
        "labels = list(set(flatten([l.split(' ') for l in df_train_data['tags'].values])))\n",
        "\n",
        "label_map = {l: i for i, l in enumerate(labels)}\n",
        "inv_label_map = {i: l for l, i in label_map.items()}"
      ],
      "execution_count": 5,
      "outputs": []
    },
    {
      "cell_type": "code",
      "metadata": {
        "id": "fO5R0Vo82GaA",
        "colab_type": "code",
        "colab": {}
      },
      "source": [
        "valid_data_size = 5000\n",
        "input_size = 32\n",
        "input_channels = 3\n",
        "filters = 64\n",
        "\n",
        "epochs = 15\n",
        "batch_size = 128\n",
        "learning_rate = 0.001\n",
        "lr_decay = 1e-4\n",
        "valid_data_size = 5000"
      ],
      "execution_count": 6,
      "outputs": []
    },
    {
      "cell_type": "code",
      "metadata": {
        "id": "u38cUN_92M2R",
        "colab_type": "code",
        "colab": {
          "base_uri": "https://localhost:8080/",
          "height": 34
        },
        "outputId": "55da6943-8ae5-4613-8f23-005a5f6564b9"
      },
      "source": [
        "x_valid = []\n",
        "y_valid = []\n",
        "\n",
        "df_valid = df_train_data[(len(df_train_data) - valid_data_size):]\n",
        "for f, tags in tqdm(df_valid.values, miniters=500):\n",
        "    dir_open= os.path.join(base_dir, 'train-jpg/{}.jpg'.format(f))\n",
        "    img = cv2.imread(dir_open)\n",
        "    img = cv2.resize(img, (input_size, input_size))\n",
        "\n",
        "    targets = np.zeros(17)\n",
        "    \n",
        "    for t in tags.split(' '):\n",
        "        targets[label_map[t]] = 1\n",
        "    x_valid.append(img)\n",
        "    y_valid.append(targets)\n",
        "\n",
        "y_valid = np.array(y_valid, np.uint8)\n",
        "x_valid = np.array(x_valid, np.float32)"
      ],
      "execution_count": 7,
      "outputs": [
        {
          "output_type": "stream",
          "text": [
            "100%|██████████| 5000/5000 [00:07<00:00, 685.81it/s]\n"
          ],
          "name": "stderr"
        }
      ]
    },
    {
      "cell_type": "code",
      "metadata": {
        "id": "TOBKOLJACR7M",
        "colab_type": "code",
        "colab": {
          "base_uri": "https://localhost:8080/",
          "height": 51
        },
        "outputId": "a915a92a-61cb-4548-9021-7c3673523a3c"
      },
      "source": [
        "print(x_valid.shape)\n",
        "print(y_valid.shape)"
      ],
      "execution_count": 8,
      "outputs": [
        {
          "output_type": "stream",
          "text": [
            "(5000, 32, 32, 3)\n",
            "(5000, 17)\n"
          ],
          "name": "stdout"
        }
      ]
    },
    {
      "cell_type": "code",
      "metadata": {
        "id": "XK_bWUcZ2iE4",
        "colab_type": "code",
        "colab": {
          "base_uri": "https://localhost:8080/",
          "height": 34
        },
        "outputId": "09608a8d-52ff-4a60-ce45-2f48e429e380"
      },
      "source": [
        "x_train = []\n",
        "y_train = []\n",
        "\n",
        "df_train = df_train_data[:(len(df_train_data) - valid_data_size)]\n",
        "\n",
        "for f, tags in tqdm(df_train.values, miniters=10000):\n",
        "    dir_open= os.path.join(base_dir, 'train-jpg/{}.jpg'.format(f))\n",
        "    img = cv2.imread(dir_open)\n",
        "    img = cv2.resize(img, (input_size, input_size))\n",
        "    targets = np.zeros(17)\n",
        "\n",
        "    for t in tags.split(' '):\n",
        "        targets[label_map[t]] = 1\n",
        "\n",
        "    x_train.append(img)\n",
        "    y_train.append(targets)\n",
        "    img = cv2.flip(img, 0)  # flip vertically\n",
        "    x_train.append(img)\n",
        "    y_train.append(targets)\n",
        "    img = cv2.flip(img, 1)  # flip horizontally\n",
        "    x_train.append(img)\n",
        "    y_train.append(targets)\n",
        "    img = cv2.flip(img, 0)  # flip vertically\n",
        "    x_train.append(img)\n",
        "    y_train.append(targets)\n",
        "\n",
        "y_train = np.array(y_train, np.uint8)\n",
        "x_train = np.array(x_train, np.float32)"
      ],
      "execution_count": 9,
      "outputs": [
        {
          "output_type": "stream",
          "text": [
            "100%|██████████| 35479/35479 [00:50<00:00, 702.71it/s]\n"
          ],
          "name": "stderr"
        }
      ]
    },
    {
      "cell_type": "code",
      "metadata": {
        "id": "h2Rq6I2Pu3lS",
        "colab_type": "code",
        "colab": {
          "base_uri": "https://localhost:8080/",
          "height": 119
        },
        "outputId": "e7253345-ac9b-43d2-ae2a-cdd492b1ae06"
      },
      "source": [
        "model = Sequential()\n",
        "model.add(BatchNormalization(input_shape=(input_size, input_size, input_channels)))\n",
        "model.add(Conv2D(32, kernel_size=(2, 2), padding='same', activation='relu'))\n",
        "model.add(Conv2D(32, kernel_size=(2, 2), activation='relu'))\n",
        "model.add(MaxPooling2D(pool_size=(2, 2)))\n",
        "model.add(Dropout(0.25))\n",
        "\n",
        "model.add(Conv2D(64, kernel_size=(2, 2), padding='same', activation='relu'))\n",
        "model.add(Conv2D(64, kernel_size=(2, 2), activation='relu'))\n",
        "model.add(MaxPooling2D(pool_size=(2, 2)))\n",
        "model.add(Dropout(0.25))\n",
        "\n",
        "model.add(Conv2D(128, kernel_size=(2, 2), padding='same', activation='relu'))\n",
        "model.add(Conv2D(128, kernel_size=(2, 2), activation='relu'))\n",
        "model.add(MaxPooling2D(pool_size=(2, 2)))\n",
        "model.add(Dropout(0.25))\n",
        "\n",
        "model.add(Conv2D(256, kernel_size=(2, 2), padding='same', activation='relu'))\n",
        "model.add(Conv2D(256, kernel_size=(2, 2), activation='relu'))\n",
        "model.add(MaxPooling2D(pool_size=(2, 2)))\n",
        "model.add(Dropout(0.25))\n",
        "\n",
        "model.add(Flatten())\n",
        "model.add(Dense(512, activation='relu'))\n",
        "model.add(Dropout(0.5))\n",
        "model.add(Dense(17, activation='sigmoid'))\n",
        "\n",
        "model.compile(loss='binary_crossentropy', # We NEED binary here, since categorical_crossentropy l1 norms the output before calculating loss.\n",
        "              optimizer='adam',\n",
        "              metrics=['accuracy'])\n",
        "              \n",
        "history_1 = model.fit(x_train, y_train,\n",
        "          batch_size=128,\n",
        "          epochs=20,\n",
        "          verbose=1,\n",
        "          validation_data=(x_valid, y_valid))\n",
        "\n",
        "accuracy = history_1.history['accuracy']\n",
        "val_loss = history_1.history['val_loss']\n",
        "loss = history_1.history['loss']\n",
        "val_acc = history_1.history['val_accuracy']\n",
        "\n",
        "epochs = range(1, len(accuracy) + 1)\n",
        "plt.figure(figsize=(15,8))\n",
        "plt.plot(epochs, loss, 'bo', label='Training loss')\n",
        "plt.plot(epochs, val_loss, 'b', label='Validation loss')\n",
        "plt.title('Training and validation loss')\n",
        "plt.xlabel('Epochs')\n",
        "plt.ylabel('Loss')\n",
        "plt.legend()\n",
        "plt.show()\n",
        "\n",
        "plt.figure(figsize=(15,8))\n",
        "plt.plot(epochs, accuracy, 'bo', label='Training acc')\n",
        "plt.plot(epochs, val_acc, 'b', label='Validation acc')\n",
        "plt.title('Training and validation accuracy')\n",
        "plt.xlabel('Epochs')\n",
        "plt.ylabel('Loss')\n",
        "plt.legend()\n",
        "plt.show()"
      ],
      "execution_count": null,
      "outputs": [
        {
          "output_type": "stream",
          "text": [
            "Epoch 1/20\n",
            "1109/1109 [==============================] - 613s 553ms/step - loss: 0.1771 - accuracy: 0.4121 - val_loss: 0.1397 - val_accuracy: 0.4152\n",
            "Epoch 2/20\n",
            "1109/1109 [==============================] - 614s 553ms/step - loss: 0.1354 - accuracy: 0.4363 - val_loss: 0.1231 - val_accuracy: 0.4472\n",
            "Epoch 3/20\n",
            "1000/1109 [==========================>...] - ETA: 59s - loss: 0.1271 - accuracy: 0.4391 "
          ],
          "name": "stdout"
        }
      ]
    },
    {
      "cell_type": "code",
      "metadata": {
        "id": "rSYkm5-N4iO1",
        "colab_type": "code",
        "colab": {
          "base_uri": "https://localhost:8080/",
          "height": 69
        },
        "outputId": "2c1aaed4-59c7-49fd-dc83-e283f3c80346"
      },
      "source": [
        "history_dict = history_1.history\n",
        "print(history_dict.keys())\n",
        "\n",
        "'''mae_history.append(history.history['mean_absolute_error'])\n",
        "mae_history_val.append(history.history['val_mean_absolute_error'])\n",
        "loss.append(history.history['loss'])\n",
        "loss_val.append(history.history['val_loss'])'''"
      ],
      "execution_count": 12,
      "outputs": [
        {
          "output_type": "stream",
          "text": [
            "dict_keys(['loss', 'accuracy', 'val_loss', 'val_accuracy'])\n"
          ],
          "name": "stdout"
        },
        {
          "output_type": "execute_result",
          "data": {
            "application/vnd.google.colaboratory.intrinsic+json": {
              "type": "string"
            },
            "text/plain": [
              "\"mae_history.append(history.history['mean_absolute_error'])\\nmae_history_val.append(history.history['val_mean_absolute_error'])\\nloss.append(history.history['loss'])\\nloss_val.append(history.history['val_loss'])\""
            ]
          },
          "metadata": {
            "tags": []
          },
          "execution_count": 12
        }
      ]
    },
    {
      "cell_type": "code",
      "metadata": {
        "id": "e7f6jhap4iNH",
        "colab_type": "code",
        "colab": {
          "base_uri": "https://localhost:8080/",
          "height": 513
        },
        "outputId": "5b76ce6c-5ebb-4e3b-cf9e-cab21df1c83f"
      },
      "source": [
        "accuracy = history_1.history['accuracy']\n",
        "val_loss = history_1.history['val_loss']\n",
        "loss = history_1.history['loss']\n",
        "val_acc = history_1.history['val_accuracy']\n",
        "\n",
        "epochs = range(1, len(accuracy) + 1)\n",
        "plt.figure(figsize=(15,8))\n",
        "plt.plot(epochs, loss, 'bo', label='Training loss')\n",
        "plt.plot(epochs, val_loss, 'b', label='Validation loss')\n",
        "plt.title('Training and validation loss')\n",
        "plt.xlabel('Epochs')\n",
        "plt.ylabel('Loss')\n",
        "plt.legend()\n",
        "\n",
        "plt.show()"
      ],
      "execution_count": 16,
      "outputs": [
        {
          "output_type": "display_data",
          "data": {
            "image/png": "[encoded data removed]",
            "text/plain": [
              "<Figure size 1080x576 with 1 Axes>"
            ]
          },
          "metadata": {
            "tags": [],
            "needs_background": "light"
          }
        }
      ]
    },
    {
      "cell_type": "code",
      "metadata": {
        "id": "vKJAbtqx4iJg",
        "colab_type": "code",
        "colab": {
          "base_uri": "https://localhost:8080/",
          "height": 513
        },
        "outputId": "4def43e6-4ff8-4e0c-bc0c-556372c6bc3f"
      },
      "source": [
        "plt.figure(figsize=(15,8))\n",
        "plt.plot(epochs, accuracy, 'bo', label='Training acc')\n",
        "plt.plot(epochs, val_acc, 'b', label='Validation acc')\n",
        "plt.title('Training and validation accuracy')\n",
        "plt.xlabel('Epochs')\n",
        "plt.ylabel('Loss')\n",
        "plt.legend()\n",
        "plt.show()"
      ],
      "execution_count": 17,
      "outputs": [
        {
          "output_type": "display_data",
          "data": {
            "image/png": "[encoded data removed]",
            "text/plain": [
              "<Figure size 1080x576 with 1 Axes>"
            ]
          },
          "metadata": {
            "tags": [],
            "needs_background": "light"
          }
        }
      ]
    },
    {
      "cell_type": "code",
      "metadata": {
        "id": "GUoLOZDu4iGB",
        "colab_type": "code",
        "colab": {}
      },
      "source": [
        ""
      ],
      "execution_count": null,
      "outputs": []
    },
    {
      "cell_type": "code",
      "metadata": {
        "id": "25zMNo2xFths",
        "colab_type": "code",
        "colab": {
          "base_uri": "https://localhost:8080/",
          "height": 51
        },
        "outputId": "3405f090-5700-4ca4-ad25-0892de2178cb"
      },
      "source": [
        "# in this cell Im not using the kfold validation and fit_generator (using fit)\n",
        "model = Sequential()\n",
        "model.add(Conv2D(filters, kernel_size=(3, 3),\n",
        "                 activation='relu',\n",
        "                 input_shape=(input_size, input_size, 3)))\n",
        "\n",
        "model.add(Conv2D(filters, (3, 3), activation='relu'))\n",
        "model.add(MaxPooling2D(pool_size=(2, 2)))\n",
        "model.add(Dropout(0.25))\n",
        "model.add(Flatten())\n",
        "model.add(Dense(128, activation='relu'))\n",
        "model.add(Dropout(0.5))\n",
        "model.add(Dense(17, activation='sigmoid'))\n",
        "\n",
        "model.compile(loss='binary_crossentropy', # We NEED binary here, since categorical_crossentropy l1 norms the output before calculating loss.\n",
        "              optimizer='adam',\n",
        "              metrics=['accuracy'])\n",
        "              \n",
        "history = model.fit(x_train, y_train,\n",
        "          batch_size=128,\n",
        "          epochs=4,\n",
        "          verbose=1,\n",
        "          validation_data=(x_valid, y_valid))\n",
        "          "
      ],
      "execution_count": null,
      "outputs": [
        {
          "output_type": "stream",
          "text": [
            "Epoch 1/4\n",
            " 724/1109 [==================>...........] - ETA: 4:28 - loss: 0.3159 - accuracy: 0.0559"
          ],
          "name": "stdout"
        }
      ]
    },
    {
      "cell_type": "code",
      "metadata": {
        "id": "nwBNQ3115kpm",
        "colab_type": "code",
        "colab": {}
      },
      "source": [
        "x#https://www.kaggle.com/petrosgk/1st-try-with-keras-0-918-lb"
      ],
      "execution_count": null,
      "outputs": []
    },
    {
      "cell_type": "code",
      "metadata": {
        "id": "OXivlWdaKHs2",
        "colab_type": "code",
        "colab": {}
      },
      "source": [
        "x_test = []\n",
        "\n",
        "for f, tags in tqdm(df_test.values, miniters=1000):\n",
        "    dir_open= os.path.join(base_dir, 'test-jpg/{}.jpg'.format(f))\n",
        "    img = cv2.imread(dir_open)\n",
        "    if type(img) is np.ndarray:\n",
        "      if img.size == 0:\n",
        "        continue\n",
        "    if img is None:\n",
        "        continue\n",
        "    img = cv2.resize(img, (input_size, input_size))\n",
        "    x_test.append(img)\n",
        "\n",
        "x_test = np.array(x_test, np.float32)"
      ],
      "execution_count": null,
      "outputs": []
    },
    {
      "cell_type": "code",
      "metadata": {
        "id": "XbOMWbl7cKzY",
        "colab_type": "code",
        "colab": {
          "base_uri": "https://localhost:8080/",
          "height": 34
        },
        "outputId": "e9bc60ff-0803-41b9-f7e9-0d24921fe48a"
      },
      "source": [
        "y_test = []\n",
        "p_test = model.predict(x_test, batch_size=batch_size, verbose=2)\n",
        "y_test.append(p_test)\n",
        "result = np.array(y_test[0])\n",
        "result = pd.DataFrame(result, columns=labels)\n",
        "preds = []\n"
      ],
      "execution_count": 67,
      "outputs": [
        {
          "output_type": "stream",
          "text": [
            "318/318 - 20s\n"
          ],
          "name": "stdout"
        }
      ]
    },
    {
      "cell_type": "code",
      "metadata": {
        "id": "TCKRo8OWh4a6",
        "colab_type": "code",
        "colab": {
          "base_uri": "https://localhost:8080/",
          "height": 1000
        },
        "outputId": "574dfacc-e055-49fd-f412-ff8aed8a065d"
      },
      "source": [
        "for i in tqdm(range(result.shape[0]), miniters=1000):\n",
        "    a = result.iloc[[i]]\n",
        "    a = a.apply(lambda x: x > 0.2, axis=1)\n",
        "    a = a.transpose()\n",
        "    a = a.loc[a[i] == True]\n",
        "    preds.append(' '.join(list(a.index)))\n",
        "\n",
        "#df_test['tags'] = preds"
      ],
      "execution_count": 68,
      "outputs": [
        {
          "output_type": "stream",
          "text": [
            "\n",
            "\n",
            "\n",
            "\n",
            "  0%|          | 0/40669 [00:00<?, ?it/s]\u001b[A\u001b[A\u001b[A\u001b[A\n",
            "\n",
            "\n",
            "\n",
            "  2%|▏         | 1000/40669 [00:03<02:07, 311.16it/s]\u001b[A\u001b[A\u001b[A\u001b[A\n",
            "\n",
            "\n",
            "\n",
            "  5%|▍         | 2000/40669 [00:06<02:04, 311.14it/s]\u001b[A\u001b[A\u001b[A\u001b[A\n",
            "\n",
            "\n",
            "\n",
            "  7%|▋         | 3000/40669 [00:09<02:03, 305.60it/s]\u001b[A\u001b[A\u001b[A\u001b[A\n",
            "\n",
            "\n",
            "\n",
            " 10%|▉         | 4000/40669 [00:13<02:00, 303.74it/s]\u001b[A\u001b[A\u001b[A\u001b[A\n",
            "\n",
            "\n",
            "\n",
            " 12%|█▏        | 5000/40669 [00:16<02:00, 295.13it/s]\u001b[A\u001b[A\u001b[A\u001b[A\n",
            "\n",
            "\n",
            "\n",
            " 15%|█▍        | 6000/40669 [00:20<02:00, 288.49it/s]\u001b[A\u001b[A\u001b[A\u001b[A\n",
            "\n",
            "\n",
            "\n",
            " 17%|█▋        | 7000/40669 [00:23<01:54, 293.06it/s]\u001b[A\u001b[A\u001b[A\u001b[A\n",
            "\n",
            "\n",
            "\n",
            " 20%|█▉        | 8000/40669 [00:27<01:50, 294.38it/s]\u001b[A\u001b[A\u001b[A\u001b[A\n",
            "\n",
            "\n",
            "\n",
            " 22%|██▏       | 9000/40669 [00:30<01:49, 290.19it/s]\u001b[A\u001b[A\u001b[A\u001b[A\n",
            "\n",
            "\n",
            "\n",
            " 25%|██▍       | 10000/40669 [00:34<01:45, 290.74it/s]\u001b[A\u001b[A\u001b[A\u001b[A\n",
            "\n",
            "\n",
            "\n",
            " 27%|██▋       | 11000/40669 [00:37<01:40, 296.46it/s]\u001b[A\u001b[A\u001b[A\u001b[A\n",
            "\n",
            "\n",
            "\n",
            " 30%|██▉       | 12000/40669 [00:40<01:36, 296.47it/s]\u001b[A\u001b[A\u001b[A\u001b[A\n",
            "\n",
            "\n",
            "\n",
            " 32%|███▏      | 13000/40669 [00:44<01:34, 291.83it/s]\u001b[A\u001b[A\u001b[A\u001b[A\n",
            "\n",
            "\n",
            "\n",
            " 34%|███▍      | 14000/40669 [00:47<01:29, 297.96it/s]\u001b[A\u001b[A\u001b[A\u001b[A\n",
            "\n",
            "\n",
            "\n",
            " 37%|███▋      | 15000/40669 [00:50<01:27, 293.50it/s]\u001b[A\u001b[A\u001b[A\u001b[A\n",
            "\n",
            "\n",
            "\n",
            " 39%|███▉      | 16000/40669 [00:54<01:25, 289.91it/s]\u001b[A\u001b[A\u001b[A\u001b[A\n",
            "\n",
            "\n",
            "\n",
            " 42%|████▏     | 17000/40669 [00:58<01:22, 287.92it/s]\u001b[A\u001b[A\u001b[A\u001b[A\n",
            "\n",
            "\n",
            "\n",
            " 44%|████▍     | 18000/40669 [01:01<01:19, 286.15it/s]\u001b[A\u001b[A\u001b[A\u001b[A\n",
            "\n",
            "\n",
            "\n",
            " 47%|████▋     | 19000/40669 [01:05<01:16, 284.15it/s]\u001b[A\u001b[A\u001b[A\u001b[A\n",
            "\n",
            "\n",
            "\n",
            " 49%|████▉     | 20000/40669 [01:08<01:12, 284.55it/s]\u001b[A\u001b[A\u001b[A\u001b[A\n",
            "\n",
            "\n",
            "\n",
            " 52%|█████▏    | 21000/40669 [01:12<01:09, 283.24it/s]\u001b[A\u001b[A\u001b[A\u001b[A\n",
            "\n",
            "\n",
            "\n",
            " 54%|█████▍    | 22000/40669 [01:15<01:05, 283.56it/s]\u001b[A\u001b[A\u001b[A\u001b[A\n",
            "\n",
            "\n",
            "\n",
            " 57%|█████▋    | 23000/40669 [01:18<01:00, 292.06it/s]\u001b[A\u001b[A\u001b[A\u001b[A\n",
            "\n",
            "\n",
            "\n",
            " 59%|█████▉    | 24000/40669 [01:22<00:55, 298.54it/s]\u001b[A\u001b[A\u001b[A\u001b[A\n",
            "\n",
            "\n",
            "\n",
            " 61%|██████▏   | 25000/40669 [01:25<00:52, 298.25it/s]\u001b[A\u001b[A\u001b[A\u001b[A\n",
            "\n",
            "\n",
            "\n",
            " 64%|██████▍   | 26000/40669 [01:28<00:48, 302.89it/s]\u001b[A\u001b[A\u001b[A\u001b[A\n",
            "\n",
            "\n",
            "\n",
            " 66%|██████▋   | 27000/40669 [01:32<00:45, 299.65it/s]\u001b[A\u001b[A\u001b[A\u001b[A\n",
            "\n",
            "\n",
            "\n",
            " 69%|██████▉   | 28000/40669 [01:35<00:43, 293.57it/s]\u001b[A\u001b[A\u001b[A\u001b[A\n",
            "\n",
            "\n",
            "\n",
            " 71%|███████▏  | 29000/40669 [01:38<00:39, 294.07it/s]\u001b[A\u001b[A\u001b[A\u001b[A\n",
            "\n",
            "\n",
            "\n",
            " 74%|███████▍  | 30000/40669 [01:42<00:36, 293.48it/s]\u001b[A\u001b[A\u001b[A\u001b[A\n",
            "\n",
            "\n",
            "\n",
            " 76%|███████▌  | 31000/40669 [01:46<00:33, 287.79it/s]\u001b[A\u001b[A\u001b[A\u001b[A\n",
            "\n",
            "\n",
            "\n",
            " 79%|███████▊  | 32000/40669 [01:49<00:29, 290.98it/s]\u001b[A\u001b[A\u001b[A\u001b[A\n",
            "\n",
            "\n",
            "\n",
            " 81%|████████  | 33000/40669 [01:52<00:26, 291.48it/s]\u001b[A\u001b[A\u001b[A\u001b[A\n",
            "\n",
            "\n",
            "\n",
            " 84%|████████▎ | 34000/40669 [01:56<00:22, 290.38it/s]\u001b[A\u001b[A\u001b[A\u001b[A\n",
            "\n",
            "\n",
            "\n",
            " 86%|████████▌ | 35000/40669 [01:59<00:19, 295.00it/s]\u001b[A\u001b[A\u001b[A\u001b[A\n",
            "\n",
            "\n",
            "\n",
            " 89%|████████▊ | 36000/40669 [02:02<00:15, 300.83it/s]\u001b[A\u001b[A\u001b[A\u001b[A\n",
            "\n",
            "\n",
            "\n",
            " 91%|█████████ | 37000/40669 [02:06<00:12, 300.86it/s]\u001b[A\u001b[A\u001b[A\u001b[A\n",
            "\n",
            "\n",
            "\n",
            " 93%|█████████▎| 38000/40669 [02:09<00:08, 299.45it/s]\u001b[A\u001b[A\u001b[A\u001b[A\n",
            "\n",
            "\n",
            "\n",
            " 96%|█████████▌| 39000/40669 [02:13<00:05, 292.57it/s]\u001b[A\u001b[A\u001b[A\u001b[A\n",
            "\n",
            "\n",
            "\n",
            "100%|██████████| 40669/40669 [02:18<00:00, 292.96it/s]\n"
          ],
          "name": "stderr"
        },
        {
          "output_type": "error",
          "ename": "NameError",
          "evalue": "ignored",
          "traceback": [
            "\u001b[0;31m---------------------------------------------------------------------------\u001b[0m",
            "\u001b[0;31mNameError\u001b[0m                                 Traceback (most recent call last)",
            "\u001b[0;32m<ipython-input-68-f23558f82dc5>\u001b[0m in \u001b[0;36m<module>\u001b[0;34m()\u001b[0m\n\u001b[1;32m      6\u001b[0m     \u001b[0mpreds\u001b[0m\u001b[0;34m.\u001b[0m\u001b[0mappend\u001b[0m\u001b[0;34m(\u001b[0m\u001b[0;34m' '\u001b[0m\u001b[0;34m.\u001b[0m\u001b[0mjoin\u001b[0m\u001b[0;34m(\u001b[0m\u001b[0mlist\u001b[0m\u001b[0;34m(\u001b[0m\u001b[0ma\u001b[0m\u001b[0;34m.\u001b[0m\u001b[0mindex\u001b[0m\u001b[0;34m)\u001b[0m\u001b[0;34m)\u001b[0m\u001b[0;34m)\u001b[0m\u001b[0;34m\u001b[0m\u001b[0;34m\u001b[0m\u001b[0m\n\u001b[1;32m      7\u001b[0m \u001b[0;34m\u001b[0m\u001b[0m\n\u001b[0;32m----> 8\u001b[0;31m \u001b[0mdf_test_data\u001b[0m\u001b[0;34m[\u001b[0m\u001b[0;34m'tags'\u001b[0m\u001b[0;34m]\u001b[0m \u001b[0;34m=\u001b[0m \u001b[0mpreds\u001b[0m\u001b[0;34m\u001b[0m\u001b[0;34m\u001b[0m\u001b[0m\n\u001b[0m",
            "\u001b[0;31mNameError\u001b[0m: name 'df_test_data' is not defined"
          ]
        }
      ]
    },
    {
      "cell_type": "code",
      "metadata": {
        "id": "0Jl2ek4L-kEO",
        "colab_type": "code",
        "colab": {}
      },
      "source": [
        ""
      ],
      "execution_count": null,
      "outputs": []
    }
  ]
}