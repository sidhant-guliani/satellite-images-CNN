{
  "nbformat": 4,
  "nbformat_minor": 0,
  "metadata": {
    "colab": {
      "name": "cnn_geospatial_data_using VGG.ipynb",
      "provenance": [],
      "collapsed_sections": [],
      "authorship_tag": "ABX9TyMnvlTiSabNcDDYsPIx5eaa",
      "include_colab_link": true
    },
    "kernelspec": {
      "name": "python3",
      "display_name": "Python 3"
    }
  },
  "cells": [
    {
      "cell_type": "markdown",
      "metadata": {
        "id": "view-in-github",
        "colab_type": "text"
      },
      "source": [
        "<a href=\"https://colab.research.google.com/github/sidhant-guliani/satellite-images-CNN/blob/master/cnn_geospatial_data_using_VGG.ipynb\" target=\"_parent\"><img src=\"https://colab.research.google.com/assets/colab-badge.svg\" alt=\"Open In Colab\"/></a>"
      ]
    },
    {
      "cell_type": "code",
      "metadata": {
        "id": "GlQX7MGArbjd",
        "colab_type": "code",
        "colab": {}
      },
      "source": [
        "import os\n",
        "import gc\n",
        "import zipfile\n",
        "import pandas as pd\n",
        "import numpy as np\n",
        "\n",
        "import tensorflow as tf\n",
        "from tensorflow.keras import Sequential, Model, Input\n",
        "from tensorflow.keras.layers import Dense, ReLU, Activation, Flatten, Dropout, Conv2D, MaxPooling2D, GlobalAveragePooling2D, BatchNormalization, ZeroPadding2D\n",
        "from tensorflow.keras.applications.vgg19 import VGG19\n",
        "from tensorflow.keras.callbacks import EarlyStopping, ReduceLROnPlateau, ModelCheckpoint\n",
        "\n",
        "import cv2\n",
        "from tqdm import tqdm\n",
        "from sklearn.metrics import fbeta_score\n",
        "from sklearn.model_selection import KFold\n"
      ],
      "execution_count": 27,
      "outputs": []
    },
    {
      "cell_type": "code",
      "metadata": {
        "id": "x4Y7pdcdr1_7",
        "colab_type": "code",
        "colab": {
          "base_uri": "https://localhost:8080/",
          "height": 34
        },
        "outputId": "951638a1-2962-4a38-fe0e-c5dddfcf90b7"
      },
      "source": [
        "from google.colab import drive\n",
        "drive.mount('/content/drive')\n",
        "\n",
        "local_zip = '/content/drive/My Drive/Colab_Notebooks/503255_938046_compressed_planet.zip'\n",
        "zip_ref = zipfile.ZipFile(local_zip, 'r')\n",
        "zip_ref.extractall('/amazon_data')\n",
        "zip_ref.close()"
      ],
      "execution_count": 28,
      "outputs": [
        {
          "output_type": "stream",
          "text": [
            "Drive already mounted at /content/drive; to attempt to forcibly remount, call drive.mount(\"/content/drive\", force_remount=True).\n"
          ],
          "name": "stdout"
        }
      ]
    },
    {
      "cell_type": "code",
      "metadata": {
        "id": "0Zy9uvLClF-P",
        "colab_type": "code",
        "colab": {
          "base_uri": "https://localhost:8080/",
          "height": 34
        },
        "outputId": "2004c73b-4cb8-4ff4-b4fe-52772fee0a58"
      },
      "source": [
        "9!ls ../amazon_data/planet"
      ],
      "execution_count": 3,
      "outputs": [
        {
          "output_type": "stream",
          "text": [
            "sample_submission.csv  test-jpg  train_classes.csv  train-jpg\n"
          ],
          "name": "stdout"
        }
      ]
    },
    {
      "cell_type": "code",
      "metadata": {
        "id": "6UOaOU9rxe3Y",
        "colab_type": "code",
        "colab": {}
      },
      "source": [
        "base_dir = '../amazon_data/planet'\n",
        "train_v2_file= os.path.join(base_dir, 'train_classes.csv')\n",
        "submission_path = os.path.join(base_dir, 'sample_submission.csv')\n",
        "\n",
        "df_train_all = pd.read_csv(train_v2_file)\n",
        "df_test = pd.read_csv(submission_path)"
      ],
      "execution_count": 4,
      "outputs": []
    },
    {
      "cell_type": "code",
      "metadata": {
        "id": "M6kDusuGx1qF",
        "colab_type": "code",
        "colab": {
          "base_uri": "https://localhost:8080/",
          "height": 34
        },
        "outputId": "834cc895-5667-479e-9faa-b04394acff12"
      },
      "source": [
        "print(df_train_all.columns)\n",
        "#https://www.kaggle.com/jcarrillo/machine-learning-for-geospatial-data-workshop-2a\n"
      ],
      "execution_count": 5,
      "outputs": [
        {
          "output_type": "stream",
          "text": [
            "Index(['image_name', 'tags'], dtype='object')\n"
          ],
          "name": "stdout"
        }
      ]
    },
    {
      "cell_type": "code",
      "metadata": {
        "id": "1uGE7JJUx_Pd",
        "colab_type": "code",
        "colab": {}
      },
      "source": [
        "flatten = lambda l: [item for sublist in l for item in sublist]\n",
        "labels = list(set(flatten([l.split(' ') for l in df_train_all['tags'].values])))\n",
        "\n",
        "label_map = {l: i for i, l in enumerate(labels)}\n",
        "inv_label_map = {i: l for l, i in label_map.items()}"
      ],
      "execution_count": 6,
      "outputs": []
    },
    {
      "cell_type": "code",
      "metadata": {
        "id": "qI0t2iN8JU2Q",
        "colab_type": "code",
        "colab": {}
      },
      "source": [
        "input_size = 32 #128\n",
        "input_channels = 3\n",
        "epochs = 4\n",
        "batch_size = 16 #128\n",
        "n_folds = 5\n",
        "training = True\n",
        "\n",
        "kf = KFold(n_splits=n_folds, shuffle=True, random_state=1) # crossfold validation"
      ],
      "execution_count": 22,
      "outputs": []
    },
    {
      "cell_type": "code",
      "metadata": {
        "id": "sLU01SzsJIg1",
        "colab_type": "code",
        "colab": {}
      },
      "source": [
        "# earlyStopping: Stop training when a monitored metric has stopped improving.\n",
        "# ReduceLROnPlateau: Reduce learning rate when a metric has stopped improving.\n",
        "# parameters: \n",
        "# verbose: By setting verbose 0, 1 or 2 you just say how do you want to 'see' the training progress for each epoch."
      ],
      "execution_count": 23,
      "outputs": []
    },
    {
      "cell_type": "code",
      "metadata": {
        "id": "NPoTltNnJU-V",
        "colab_type": "code",
        "colab": {}
      },
      "source": [
        "\n",
        "def transformations(src, choice):\n",
        "        if choice == 0:\n",
        "            # Rotate 90\n",
        "            src = cv2.rotate(src, rotateCode=cv2.ROTATE_90_CLOCKWISE)\n",
        "        if choice == 1:\n",
        "            # Rotate 90 and flip horizontally\n",
        "            src = cv2.rotate(src, rotateCode=cv2.ROTATE_90_CLOCKWISE)\n",
        "            src = cv2.flip(src, flipCode=1)\n",
        "        if choice == 2:\n",
        "            # Rotate 180\n",
        "            src = cv2.rotate(src, rotateCode=cv2.ROTATE_180)\n",
        "        if choice == 3:\n",
        "            # Rotate 180 and flip horizontally\n",
        "            src = cv2.rotate(src, rotateCode=cv2.ROTATE_180)\n",
        "            src = cv2.flip(src, flipCode=1)\n",
        "        if choice == 4:\n",
        "            # Rotate 90 counter-clockwise\n",
        "            src = cv2.rotate(src, rotateCode=cv2.ROTATE_90_COUNTERCLOCKWISE)\n",
        "        if choice == 5:\n",
        "            # Rotate 90 counter-clockwise and flip horizontally\n",
        "            src = cv2.rotate(src, rotateCode=cv2.ROTATE_90_COUNTERCLOCKWISE)\n",
        "            src = cv2.flip(src, flipCode=1)\n",
        "        return src\n"
      ],
      "execution_count": 24,
      "outputs": []
    },
    {
      "cell_type": "code",
      "metadata": {
        "id": "M4eEW_E4irhT",
        "colab_type": "code",
        "colab": {}
      },
      "source": [
        "def data_generator(df, file_name):\n",
        "\n",
        "  while True:\n",
        "      for start in range(0, len(df), batch_size):\n",
        "          x_batch = []\n",
        "          y_batch = []\n",
        "          end = min(start + batch_size, len(df))\n",
        "          df_batch = df[start:end]\n",
        "          for f, tags in df_batch.values:\n",
        "              dir_open= os.path.join(base_dir, '{}/{}.jpg'.format(file_name, f))\n",
        "              img = cv2.imread(dir_open)\n",
        "              img = cv2.resize(img, (input_size, input_size))\n",
        "              img = transformations(img, np.random.randint(6))\n",
        "              targets = np.zeros(17)\n",
        "\n",
        "              for t in tags.split(' '):\n",
        "                  targets[label_map[t]] = 1\n",
        "\n",
        "              x_batch.append(img)\n",
        "              y_batch.append(targets)\n",
        "          x_batch = np.array(x_batch, np.float32)\n",
        "          y_batch = np.array(y_batch, np.uint8)\n",
        "\n",
        "          yield x_batch, y_batch"
      ],
      "execution_count": 25,
      "outputs": []
    },
    {
      "cell_type": "code",
      "metadata": {
        "id": "-wD891fwJVCn",
        "colab_type": "code",
        "colab": {
          "base_uri": "https://localhost:8080/",
          "height": 51
        },
        "outputId": "9dcaf49f-6aff-4c55-9d08-09483cdd89b7"
      },
      "source": [
        "fold_count = 0 #\n",
        "y_full_test = []\n",
        "history = []\n",
        "\n",
        "for train_index, test_index in kf.split(df_train_all):\n",
        "  fold_count += 1\n",
        "  df_valid = df_train_all.iloc[test_index]\n",
        "  df_train = df_train_all.iloc[train_index]\n",
        "  base_model = VGG19(include_top=False, \n",
        "                     weights='imagenet',\n",
        "                     input_shape = (input_size, input_size, input_channels))\n",
        "  model = Sequential()\n",
        "  model.add(BatchNormalization(input_shape = (input_size, input_size, input_channels)))\n",
        "  model.add(base_model)\n",
        "  model.add(Flatten())\n",
        "\n",
        "  model.add(Dense(17, activation = 'sigmoid'))\n",
        "  optm = tf.keras.optimizers.Adam(learning_rate=0.0001, beta_1=0.9, beta_2=0.999, epsilon=1e-07, amsgrad=False,name='Adam')\n",
        "  \n",
        "  model.compile(loss = 'binary_crossentropy',\n",
        "                optimizer = optm,\n",
        "                metrics = ['accuracy'])\n",
        "  \n",
        "  callbacks = [EarlyStopping(monitor='val_loss',\n",
        "                               patience=4,\n",
        "                               verbose=1,\n",
        "                               min_delta=1e-4),\n",
        "                 ReduceLROnPlateau(monitor='val_loss',\n",
        "                                   factor=0.1,\n",
        "                                   patience=2,\n",
        "                                   cooldown=2,\n",
        "                                   verbose=1),\n",
        "                 ModelCheckpoint(filepath='best_weights.fold_' + str(fold_count) + '.hdf5',\n",
        "                                 save_best_only=True,\n",
        "                                 save_weights_only=True)]\n",
        "\n",
        "  if training: \n",
        "    history.append(model.fit_generator(generator = data_generator(df_train, 'train-jpg'),\n",
        "                        steps_per_epoch = (len(df_train) // batch_size)+1,\n",
        "                        epochs = epochs,\n",
        "                        verbose = 1,\n",
        "                        callbacks=callbacks,\n",
        "                        validation_data=data_generator(df_valid, 'train-jpg'),\n",
        "                        validation_steps=(len(df_valid) // batch_size)+1))"
      ],
      "execution_count": null,
      "outputs": [
        {
          "output_type": "stream",
          "text": [
            "Epoch 1/4\n",
            "1527/2024 [=====================>........] - ETA: 18:06 - loss: 0.1578 - accuracy: 0.5113"
          ],
          "name": "stdout"
        }
      ]
    },
    {
      "cell_type": "code",
      "metadata": {
        "id": "9rES_P3v2-vu",
        "colab_type": "code",
        "colab": {}
      },
      "source": [
        ""
      ],
      "execution_count": null,
      "outputs": []
    },
    {
      "cell_type": "code",
      "metadata": {
        "id": "8uoZKpfmOXcM",
        "colab_type": "code",
        "colab": {}
      },
      "source": [
        ""
      ],
      "execution_count": null,
      "outputs": []
    },
    {
      "cell_type": "code",
      "metadata": {
        "id": "PVk-fDOCQljB",
        "colab_type": "code",
        "colab": {}
      },
      "source": [
        ""
      ],
      "execution_count": null,
      "outputs": []
    },
    {
      "cell_type": "code",
      "metadata": {
        "id": "8TaIWIgMQlpr",
        "colab_type": "code",
        "colab": {}
      },
      "source": [
        ""
      ],
      "execution_count": null,
      "outputs": []
    },
    {
      "cell_type": "code",
      "metadata": {
        "id": "g5oEadwVQlm9",
        "colab_type": "code",
        "colab": {}
      },
      "source": [
        ""
      ],
      "execution_count": null,
      "outputs": []
    }
  ]
}